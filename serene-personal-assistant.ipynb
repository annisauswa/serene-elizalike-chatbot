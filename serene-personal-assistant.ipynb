{
 "cells": [
  {
   "cell_type": "code",
   "execution_count": 1,
   "metadata": {},
   "outputs": [
    {
     "name": "stdout",
     "output_type": "stream",
     "text": [
      "Requirement already satisfied: pywhatkit in c:\\users\\acer\\anaconda3\\lib\\site-packages (5.4)\n",
      "Requirement already satisfied: pyautogui in c:\\users\\acer\\anaconda3\\lib\\site-packages (from pywhatkit) (0.9.54)\n",
      "Requirement already satisfied: wikipedia in c:\\users\\acer\\anaconda3\\lib\\site-packages (from pywhatkit) (1.4.0)\n",
      "Requirement already satisfied: requests in c:\\users\\acer\\anaconda3\\lib\\site-packages (from pywhatkit) (2.27.1)\n",
      "Requirement already satisfied: Pillow in c:\\users\\acer\\anaconda3\\lib\\site-packages (from pywhatkit) (10.0.0)\n",
      "Requirement already satisfied: Flask in c:\\users\\acer\\anaconda3\\lib\\site-packages (from pywhatkit) (1.1.2)\n",
      "Requirement already satisfied: click>=5.1 in c:\\users\\acer\\anaconda3\\lib\\site-packages (from Flask->pywhatkit) (8.0.4)\n",
      "Requirement already satisfied: itsdangerous>=0.24 in c:\\users\\acer\\anaconda3\\lib\\site-packages (from Flask->pywhatkit) (2.0.1)\n",
      "Requirement already satisfied: Werkzeug>=0.15 in c:\\users\\acer\\anaconda3\\lib\\site-packages (from Flask->pywhatkit) (2.0.3)\n",
      "Requirement already satisfied: Jinja2>=2.10.1 in c:\\users\\acer\\anaconda3\\lib\\site-packages (from Flask->pywhatkit) (2.11.3)\n",
      "Requirement already satisfied: pygetwindow>=0.0.5 in c:\\users\\acer\\anaconda3\\lib\\site-packages (from pyautogui->pywhatkit) (0.0.9)\n",
      "Requirement already satisfied: pymsgbox in c:\\users\\acer\\anaconda3\\lib\\site-packages (from pyautogui->pywhatkit) (1.0.9)\n",
      "Requirement already satisfied: mouseinfo in c:\\users\\acer\\anaconda3\\lib\\site-packages (from pyautogui->pywhatkit) (0.1.3)\n",
      "Requirement already satisfied: pyscreeze>=0.1.21 in c:\\users\\acer\\anaconda3\\lib\\site-packages (from pyautogui->pywhatkit) (0.1.29)\n",
      "Requirement already satisfied: pytweening>=1.0.4 in c:\\users\\acer\\anaconda3\\lib\\site-packages (from pyautogui->pywhatkit) (1.0.7)\n",
      "Requirement already satisfied: charset-normalizer~=2.0.0 in c:\\users\\acer\\anaconda3\\lib\\site-packages (from requests->pywhatkit) (2.0.4)\n",
      "Requirement already satisfied: urllib3<1.27,>=1.21.1 in c:\\users\\acer\\anaconda3\\lib\\site-packages (from requests->pywhatkit) (1.26.9)\n",
      "Requirement already satisfied: idna<4,>=2.5 in c:\\users\\acer\\anaconda3\\lib\\site-packages (from requests->pywhatkit) (3.3)\n",
      "Requirement already satisfied: certifi>=2017.4.17 in c:\\users\\acer\\anaconda3\\lib\\site-packages (from requests->pywhatkit) (2021.10.8)\n",
      "Requirement already satisfied: beautifulsoup4 in c:\\users\\acer\\anaconda3\\lib\\site-packages (from wikipedia->pywhatkit) (4.11.1)\n",
      "Requirement already satisfied: colorama in c:\\users\\acer\\anaconda3\\lib\\site-packages (from click>=5.1->Flask->pywhatkit) (0.4.4)\n",
      "Requirement already satisfied: MarkupSafe>=0.23 in c:\\users\\acer\\anaconda3\\lib\\site-packages (from Jinja2>=2.10.1->Flask->pywhatkit) (2.0.1)\n",
      "Requirement already satisfied: pyrect in c:\\users\\acer\\anaconda3\\lib\\site-packages (from pygetwindow>=0.0.5->pyautogui->pywhatkit) (0.2.0)\n",
      "Requirement already satisfied: pyscreenshot in c:\\users\\acer\\anaconda3\\lib\\site-packages (from pyscreeze>=0.1.21->pyautogui->pywhatkit) (3.1)\n",
      "Requirement already satisfied: soupsieve>1.2 in c:\\users\\acer\\anaconda3\\lib\\site-packages (from beautifulsoup4->wikipedia->pywhatkit) (2.3.1)\n",
      "Requirement already satisfied: pyperclip in c:\\users\\acer\\anaconda3\\lib\\site-packages (from mouseinfo->pyautogui->pywhatkit) (1.8.2)\n",
      "Requirement already satisfied: entrypoint2 in c:\\users\\acer\\anaconda3\\lib\\site-packages (from pyscreenshot->pyscreeze>=0.1.21->pyautogui->pywhatkit) (1.1)\n",
      "Requirement already satisfied: EasyProcess in c:\\users\\acer\\anaconda3\\lib\\site-packages (from pyscreenshot->pyscreeze>=0.1.21->pyautogui->pywhatkit) (1.1)\n",
      "Requirement already satisfied: mss in c:\\users\\acer\\anaconda3\\lib\\site-packages (from pyscreenshot->pyscreeze>=0.1.21->pyautogui->pywhatkit) (9.0.1)\n",
      "Note: you may need to restart the kernel to use updated packages.\n"
     ]
    },
    {
     "name": "stderr",
     "output_type": "stream",
     "text": [
      "\n",
      "[notice] A new release of pip available: 22.2.2 -> 23.2.1\n",
      "[notice] To update, run: python.exe -m pip install --upgrade pip\n"
     ]
    }
   ],
   "source": [
    "%pip install pywhatkit"
   ]
  },
  {
   "cell_type": "code",
   "execution_count": 2,
   "metadata": {},
   "outputs": [],
   "source": [
    "import re\n",
    "import random\n",
    "import pywhatkit"
   ]
  },
  {
   "cell_type": "code",
   "execution_count": 3,
   "metadata": {},
   "outputs": [],
   "source": [
    "response_list = {\n",
    "    r\"youtube\":[\"Ok, what do you want to watch on youtube?\"],\n",
    "    r\"i (?:want to|wanna) (.*)\": [\"Why do you want to {}?\"],\n",
    "    r\"chat\":[\"Ok, who do you want to chat with?\"],\n",
    "    r\"(?:hi|hello)\": [\"Hello, how may I help you.\"],\n",
    "    r\"(?:.*)i feel (.*)\": [\"Why do you feel {}?\", \"How long have you been feeling {}?\"],\n",
    "    r\"\\bi\\s*\\'?\\s*a?m\\b (.*)\": [\"Why are you {}?\", \"How long have you been {}?\"],\n",
    "    r\"(?:.*)i need (.*)\": [\"Why do you need {}?\", \"How can I help you with that?\"],\n",
    "    r\"i (.*) you\": [\"Why do you {} me?\", \"What makes you think you {} me?\"],\n",
    "    r\"(?:.*)i (.*) myself\": [\"Why do you {} yourself?\", \"What makes you think you {} yourself?\"],\n",
    "    r\"(.*)sorry\": [\"There's no need to apologize\"],\n",
    "    r\"yes\": [\"Ok, but can you tell me more?\", \"Ok, but why do you say that?\"],\n",
    "    r\"no\": [\"Why not?\", \"Are you sure?\"],\n",
    "    r\"(?:thank you|thanks|thx)\": [\"You're welcome\", \"No problem\", \"I'm always here to help\"],\n",
    "    r\" (.*)\": [\"Please tell me more.\", \"Ok, but let's talk about your day, how's your day going\"],\n",
    "    r\"\": [\"Please tell me more.\", \"Ok, but let's talk about your day, how's your day going\"]\n",
    "}\n",
    "\n",
    "negative_expressions = [\n",
    "    \"bored\",\n",
    "    \"awful\",\n",
    "    \"terrible\",\n",
    "    \"not good\",\n",
    "    \"can't stand\",\n",
    "    \"worst\",\n",
    "    \"disappointed\",\n",
    "    \"letdown\",\n",
    "    \"not impressed\",\n",
    "    \"frustrated\",\n",
    "    \"fed up\",\n",
    "    \"disaster\",\n",
    "    \"not happy\",\n",
    "    \"nightmare\",\n",
    "    \"mess\",\n",
    "    \"not enjoying\",\n",
    "    \"annoying\",\n",
    "    \"not having a good time\",\n",
    "    \"total failure\",\n",
    "    \"die\"\n",
    "]"
   ]
  },
  {
   "cell_type": "code",
   "execution_count": 4,
   "metadata": {},
   "outputs": [],
   "source": [
    "negative_pattern = re.compile(r\"\\b(\" + \"|\".join(re.escape(exp) for exp in negative_expressions) + r\")\\b\", re.IGNORECASE)\n",
    "\n",
    "def match_response(input):\n",
    "    for pattern, responses in response_list.items():\n",
    "        match = re.match(pattern, input.lower())\n",
    "        if match:\n",
    "            response = random.choice(responses)\n",
    "            return response.format(*match.groups())\n",
    "        \n",
    "    return \"I'm sorry, I don't understand what you're saying.\"\n",
    "\n",
    "contact_list = {\n",
    "    \"daniyal\": \"+6281226749611\",\n",
    "    \"haikal\": \"+62895367597379\",\n",
    "}\n",
    "\n",
    "def send_message(contact, message):\n",
    "    if contact in contact_list:\n",
    "        phone_no = contact_list[contact]\n",
    "    else:\n",
    "        phone_no = contact\n",
    "    pywhatkit.sendwhatmsg_instantly(\n",
    "        phone_no=phone_no,\n",
    "        message=message,\n",
    "        tab_close=True,\n",
    "        close_time=10\n",
    "        )\n",
    "    \n",
    "def handle_chat(name):\n",
    "    print(f\"Renee: Ok, who do you want to chat with?\")\n",
    "    contact = input(\"{}: \".format(name))\n",
    "    print(f\"Renee: What message do you want to send to {contact}?\")\n",
    "    message = input(\"{}: \".format(name))\n",
    "    print(f\"Renee: Here, I'll help you contact them. Opening WhatsApp...\")\n",
    "    send_message(contact.lower(), message)\n",
    "\n",
    "def play_youtube(query):\n",
    "    pywhatkit.playonyt(query)\n",
    "\n",
    "def handle_youtube(name):\n",
    "    print(f\"Renee: Ok, what do you want to watch on YouTube?\")\n",
    "    query = input(\"{}: \".format(name))\n",
    "    print(f\"Renee: Yay, let's watch {query} on YouTube. Opening YouTube...\")\n",
    "    play_youtube(query)\n",
    "\n",
    "\n",
    "def serene_chatbot():\n",
    "    print(\"Renee: Welcome to Serene your personal companion. You can call me Renee. What's your name?\")\n",
    "    name=input(\">>> \")\n",
    "    print(f\"Renee: Hi {name}, what brings you here today?\")\n",
    "    while True:\n",
    "        input_text = input(\"{}: \".format(name))\n",
    "        if input_text.lower() == \"bye\":\n",
    "            print(\"Renee: Bye, have a nice day and don't forget to take a rest.\")\n",
    "            break\n",
    "        elif negative_pattern.search(input_text):\n",
    "            print(\"Renee: I'm sorry to hear that. Do you want to do something fun to cheer you up?\")\n",
    "            input_text = input(\"{}: \".format(name)).lower()\n",
    "            if input_text.lower() == \"bye\":\n",
    "                print(\"Renee: Bye, have a nice day and don't forget to take a rest.\")\n",
    "                break\n",
    "            elif input_text.lower() == \"no\":\n",
    "                print(\"Renee: alright, maybe we can do chitchat. What do you want to talk about?\")\n",
    "            elif input_text.lower() == \"yes\":\n",
    "                print(\"Renee: Ok, what do you want to do. Maybe chat with your friend or watch some youtube?\")\n",
    "                input_text = input(\"{}: \".format(name)).lower()\n",
    "                if re.search(r\"youtube\", input_text, re.IGNORECASE):\n",
    "                    handle_youtube(name)\n",
    "                elif re.search(r\"chat\", input_text, re.IGNORECASE):\n",
    "                    handle_chat(name)\n",
    "                else:\n",
    "                    print(f\"Renee: {match_response(input_text)}\")\n",
    "        elif re.search(r\"youtube\", input_text, re.IGNORECASE) :\n",
    "            handle_youtube(name)\n",
    "        elif re.search(r\"chat\", input_text, re.IGNORECASE):\n",
    "            handle_chat(name)\n",
    "        else:\n",
    "            print(f\"Renee: {match_response(input_text)}\")\n",
    "\n"
   ]
  },
  {
   "cell_type": "code",
   "execution_count": 5,
   "metadata": {},
   "outputs": [
    {
     "name": "stdout",
     "output_type": "stream",
     "text": [
      "Renee: Welcome to Serene your personal companion. You can call me Renee. What's your name?\n",
      "Renee: Hi uswa, what brings you here today?\n",
      "Renee: How can I help you with that?\n",
      "Renee: Ok, but let's talk about your day, how's your day going\n",
      "Renee: Bye, have a nice day and don't forget to take a rest.\n"
     ]
    }
   ],
   "source": [
    "serene_chatbot()"
   ]
  }
 ],
 "metadata": {
  "kernelspec": {
   "display_name": "base",
   "language": "python",
   "name": "python3"
  },
  "language_info": {
   "codemirror_mode": {
    "name": "ipython",
    "version": 3
   },
   "file_extension": ".py",
   "mimetype": "text/x-python",
   "name": "python",
   "nbconvert_exporter": "python",
   "pygments_lexer": "ipython3",
   "version": "3.9.12"
  },
  "orig_nbformat": 4
 },
 "nbformat": 4,
 "nbformat_minor": 2
}
